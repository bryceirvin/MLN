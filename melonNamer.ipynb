{
 "cells": [
  {
   "cell_type": "code",
   "execution_count": 2,
   "metadata": {},
   "outputs": [],
   "source": [
    "import os\n",
    "import glob\n",
    "import math\n",
    "import numpy as np\n",
    "from pathlib import Path\n",
    "import pandas as pd"
   ]
  },
  {
   "cell_type": "code",
   "execution_count": 5,
   "metadata": {},
   "outputs": [],
   "source": [
    "path = Path.cwd() / 'Melon_Audio'\n",
    "files = sorted(os.listdir(path), key=len)\n",
    "nameArray = np.empty(0)\n",
    "melonNumArray = np.empty(0)\n",
    "posArray = np.empty(0)\n",
    "slapNumArray = np.empty(0)\n",
    "slapTypeArray = np.empty(0)\n",
    "\n",
    "for count, filename in enumerate(files):\n",
    "    if count < 108:\n",
    "        melonNumArray = np.append(melonNumArray, filename[1])\n",
    "        posArray = np.append(posArray, filename[3])\n",
    "        slapNumArray = np.append(slapNumArray, filename[5])\n",
    "        if filename[4] == \"K\":\n",
    "            slapTypeArray = np.append(slapTypeArray, str(\"Knock\"))\n",
    "        else:\n",
    "            slapTypeArray = np.append(slapTypeArray, str(\"Slap\"))\n",
    "    else:\n",
    "        melonNumArray = np.append(melonNumArray, str(filename[1]) + str(filename[2]))\n",
    "        posArray = np.append(posArray, filename[4])\n",
    "        slapNumArray = np.append(slapNumArray, filename[6])\n",
    "        if filename[5] == \"K\":\n",
    "            slapTypeArray = np.append(slapTypeArray, str(\"Knock\"))\n",
    "        else:\n",
    "            slapTypeArray = np.append(slapTypeArray, str(\"Slap\"))\n",
    "\n",
    "    nameArray = np.append(nameArray, path.name + '/' + filename)\n",
    "\n",
    "fullMat = np.vstack([nameArray, melonNumArray, posArray, slapTypeArray, slapNumArray])\n",
    "fileInfoMat = np.transpose(fullMat)"
   ]
  },
  {
   "cell_type": "code",
   "execution_count": 7,
   "metadata": {},
   "outputs": [],
   "source": [
    "infoPD = pd.DataFrame(fileInfoMat)\n",
    "infoPD.to_csv('Melon_Info.csv', index=False)\n",
    "\n",
    "# Columns: File Path, Melon #, Position, Slap Type, Slap #"
   ]
  },
  {
   "cell_type": "code",
   "execution_count": 35,
   "metadata": {},
   "outputs": [
    {
     "data": {
      "text/plain": [
       "'Melon_Audio/M1P1K2.wav'"
      ]
     },
     "execution_count": 35,
     "metadata": {},
     "output_type": "execute_result"
    }
   ],
   "source": [
    "nameArray[1]"
   ]
  },
  {
   "cell_type": "code",
   "execution_count": 3,
   "metadata": {},
   "outputs": [],
   "source": [
    "def nameCalc(fileCount):\n",
    "    count = fileCount + 1\n",
    "    mCount = count/12\n",
    "\n",
    "    melDiv = round(mCount%1, 4)\n",
    "    melCount = math.ceil(count/12)\n",
    "\n",
    "    if melDiv == 0.0833:\n",
    "        ext = \"P1S1\"\n",
    "    elif melDiv == 0.1667:\n",
    "        ext = \"P1S2\"\n",
    "    elif melDiv == 0.25:\n",
    "        ext = \"P1S3\"\n",
    "    elif melDiv == 0.3333:\n",
    "        ext = \"P1K1\"\n",
    "    elif melDiv == 0.4167:\n",
    "        ext = \"P1K2\"\n",
    "    elif melDiv == 0.5:\n",
    "        ext = \"P1K3\"\n",
    "    elif melDiv == 0.5833:\n",
    "        ext = \"P2S1\"\n",
    "    elif melDiv == 0.6667:\n",
    "        ext = \"P2S2\"\n",
    "    elif melDiv == 0.75:\n",
    "        ext = \"P2S3\"\n",
    "    elif melDiv == 0.8333:\n",
    "        ext = \"P2K1\"\n",
    "    elif melDiv == 0.9167:\n",
    "        ext = \"P2K2\"\n",
    "    elif melDiv == 0.0:\n",
    "        ext = \"P2K3\"\n",
    "\n",
    "    extName = \"M\" + str(melCount) + str(ext)\n",
    "\n",
    "    return extName\n"
   ]
  }
 ],
 "metadata": {
  "interpreter": {
   "hash": "8edf31b87f67b6ee633ddb88a2a6122a753fb19450459683d0a9ec78e3773dc3"
  },
  "kernelspec": {
   "display_name": "Python 3.7.9 64-bit",
   "name": "python3"
  },
  "language_info": {
   "codemirror_mode": {
    "name": "ipython",
    "version": 3
   },
   "file_extension": ".py",
   "mimetype": "text/x-python",
   "name": "python",
   "nbconvert_exporter": "python",
   "pygments_lexer": "ipython3",
   "version": "3.7.9"
  },
  "orig_nbformat": 4
 },
 "nbformat": 4,
 "nbformat_minor": 2
}
